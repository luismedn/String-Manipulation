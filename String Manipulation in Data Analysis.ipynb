{
 "cells": [
  {
   "cell_type": "markdown",
   "id": "e36618db",
   "metadata": {},
   "source": [
    "# Example Use Cases of String Functions in Data Analysis"
   ]
  },
  {
   "cell_type": "markdown",
   "id": "a1a75675",
   "metadata": {},
   "source": [
    "## 1. Import necessary libraries"
   ]
  },
  {
   "cell_type": "code",
   "execution_count": 1,
   "id": "d1e6affe",
   "metadata": {},
   "outputs": [],
   "source": [
    "import pandas as pd\n",
    "import re  "
   ]
  },
  {
   "cell_type": "markdown",
   "id": "0de678f2",
   "metadata": {},
   "source": [
    "## 2. Create a sample dataset"
   ]
  },
  {
   "cell_type": "code",
   "execution_count": 2,
   "id": "7ed1c253",
   "metadata": {},
   "outputs": [],
   "source": [
    "data = {'text_column': [\n",
    "    'Hello, World!',\n",
    "    'Data analysis is fun.',\n",
    "    '12345 Python 67890',\n",
    "    '   Extra spaces   ',\n",
    "    'email@example.com'\n",
    "]}"
   ]
  },
  {
   "cell_type": "code",
   "execution_count": 5,
   "id": "92355051",
   "metadata": {},
   "outputs": [
    {
     "data": {
      "text/plain": [
       "{'text_column': ['Hello, World!',\n",
       "  'Data analysis is fun.',\n",
       "  '12345 Python 67890',\n",
       "  '   Extra spaces   ',\n",
       "  'email@example.com']}"
      ]
     },
     "execution_count": 5,
     "metadata": {},
     "output_type": "execute_result"
    }
   ],
   "source": [
    "data"
   ]
  },
  {
   "cell_type": "markdown",
   "id": "2a8b6ef1",
   "metadata": {},
   "source": [
    "## 3. Create a DataFrame from the sample data"
   ]
  },
  {
   "cell_type": "code",
   "execution_count": 6,
   "id": "e1723ce0",
   "metadata": {},
   "outputs": [],
   "source": [
    "df = pd.DataFrame(data)"
   ]
  },
  {
   "cell_type": "code",
   "execution_count": 7,
   "id": "1205000b",
   "metadata": {},
   "outputs": [
    {
     "data": {
      "text/html": [
       "<div>\n",
       "<style scoped>\n",
       "    .dataframe tbody tr th:only-of-type {\n",
       "        vertical-align: middle;\n",
       "    }\n",
       "\n",
       "    .dataframe tbody tr th {\n",
       "        vertical-align: top;\n",
       "    }\n",
       "\n",
       "    .dataframe thead th {\n",
       "        text-align: right;\n",
       "    }\n",
       "</style>\n",
       "<table border=\"1\" class=\"dataframe\">\n",
       "  <thead>\n",
       "    <tr style=\"text-align: right;\">\n",
       "      <th></th>\n",
       "      <th>text_column</th>\n",
       "    </tr>\n",
       "  </thead>\n",
       "  <tbody>\n",
       "    <tr>\n",
       "      <th>0</th>\n",
       "      <td>Hello, World!</td>\n",
       "    </tr>\n",
       "    <tr>\n",
       "      <th>1</th>\n",
       "      <td>Data analysis is fun.</td>\n",
       "    </tr>\n",
       "    <tr>\n",
       "      <th>2</th>\n",
       "      <td>12345 Python 67890</td>\n",
       "    </tr>\n",
       "    <tr>\n",
       "      <th>3</th>\n",
       "      <td>Extra spaces</td>\n",
       "    </tr>\n",
       "    <tr>\n",
       "      <th>4</th>\n",
       "      <td>email@example.com</td>\n",
       "    </tr>\n",
       "  </tbody>\n",
       "</table>\n",
       "</div>"
      ],
      "text/plain": [
       "             text_column\n",
       "0          Hello, World!\n",
       "1  Data analysis is fun.\n",
       "2     12345 Python 67890\n",
       "3        Extra spaces   \n",
       "4      email@example.com"
      ]
     },
     "execution_count": 7,
     "metadata": {},
     "output_type": "execute_result"
    }
   ],
   "source": [
    "df"
   ]
  },
  {
   "cell_type": "markdown",
   "id": "4dfbf6ca",
   "metadata": {},
   "source": [
    "## 4. Exploratory Data Analysis (EDA) on string values\n",
    "### Let's explore and manipulate the 'text_column'\n",
    "\n",
    "\n",
    "## 5. Extracting specific patterns using regular expressions\n",
    "### Example: Extract all words from the text\n"
   ]
  },
  {
   "cell_type": "code",
   "execution_count": 8,
   "id": "8e3e4a7d",
   "metadata": {},
   "outputs": [],
   "source": [
    "df['words'] = df['text_column'].apply(lambda x: re.findall(r'\\b\\w+\\b', x))"
   ]
  },
  {
   "cell_type": "code",
   "execution_count": 9,
   "id": "08f38398",
   "metadata": {},
   "outputs": [
    {
     "data": {
      "text/html": [
       "<div>\n",
       "<style scoped>\n",
       "    .dataframe tbody tr th:only-of-type {\n",
       "        vertical-align: middle;\n",
       "    }\n",
       "\n",
       "    .dataframe tbody tr th {\n",
       "        vertical-align: top;\n",
       "    }\n",
       "\n",
       "    .dataframe thead th {\n",
       "        text-align: right;\n",
       "    }\n",
       "</style>\n",
       "<table border=\"1\" class=\"dataframe\">\n",
       "  <thead>\n",
       "    <tr style=\"text-align: right;\">\n",
       "      <th></th>\n",
       "      <th>text_column</th>\n",
       "      <th>words</th>\n",
       "    </tr>\n",
       "  </thead>\n",
       "  <tbody>\n",
       "    <tr>\n",
       "      <th>0</th>\n",
       "      <td>Hello, World!</td>\n",
       "      <td>[Hello, World]</td>\n",
       "    </tr>\n",
       "    <tr>\n",
       "      <th>1</th>\n",
       "      <td>Data analysis is fun.</td>\n",
       "      <td>[Data, analysis, is, fun]</td>\n",
       "    </tr>\n",
       "    <tr>\n",
       "      <th>2</th>\n",
       "      <td>12345 Python 67890</td>\n",
       "      <td>[12345, Python, 67890]</td>\n",
       "    </tr>\n",
       "    <tr>\n",
       "      <th>3</th>\n",
       "      <td>Extra spaces</td>\n",
       "      <td>[Extra, spaces]</td>\n",
       "    </tr>\n",
       "    <tr>\n",
       "      <th>4</th>\n",
       "      <td>email@example.com</td>\n",
       "      <td>[email, example, com]</td>\n",
       "    </tr>\n",
       "  </tbody>\n",
       "</table>\n",
       "</div>"
      ],
      "text/plain": [
       "             text_column                      words\n",
       "0          Hello, World!             [Hello, World]\n",
       "1  Data analysis is fun.  [Data, analysis, is, fun]\n",
       "2     12345 Python 67890     [12345, Python, 67890]\n",
       "3        Extra spaces               [Extra, spaces]\n",
       "4      email@example.com      [email, example, com]"
      ]
     },
     "execution_count": 9,
     "metadata": {},
     "output_type": "execute_result"
    }
   ],
   "source": [
    "df"
   ]
  },
  {
   "cell_type": "code",
   "execution_count": 10,
   "id": "440abf0d",
   "metadata": {},
   "outputs": [
    {
     "name": "stdout",
     "output_type": "stream",
     "text": [
      "Extracted words: ['This', 'is', 'a', 'sample', 'text', 'with', 'punctuation', 'and', 'spaces']\n"
     ]
    }
   ],
   "source": [
    "# Example: Extract all words from the text without regular expressions\n",
    "\n",
    "# Sample text\n",
    "text = \"This is a sample text, with punctuation and spaces.\"\n",
    "\n",
    "# Split the text into words using whitespace as the delimiter\n",
    "words = text.split()\n",
    "\n",
    "# Remove punctuation from each word\n",
    "words = [word.strip('.,!?') for word in words]\n",
    "\n",
    "# Filter out empty strings\n",
    "words = [word for word in words if word]\n",
    "\n",
    "print(\"Extracted words:\", words)"
   ]
  },
  {
   "cell_type": "code",
   "execution_count": null,
   "id": "5fff6cc2",
   "metadata": {},
   "outputs": [],
   "source": []
  }
 ],
 "metadata": {
  "kernelspec": {
   "display_name": "Python 3 (ipykernel)",
   "language": "python",
   "name": "python3"
  },
  "language_info": {
   "codemirror_mode": {
    "name": "ipython",
    "version": 3
   },
   "file_extension": ".py",
   "mimetype": "text/x-python",
   "name": "python",
   "nbconvert_exporter": "python",
   "pygments_lexer": "ipython3",
   "version": "3.11.4"
  }
 },
 "nbformat": 4,
 "nbformat_minor": 5
}
